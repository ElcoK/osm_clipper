{
 "cells": [
  {
   "cell_type": "code",
   "execution_count": 1,
   "metadata": {},
   "outputs": [],
   "source": [
    "import os,sys\n",
    "from tqdm import tqdm\n",
    "import geopandas as gpd\n",
    "import pgpkg\n",
    "import pygeos\n",
    "sys.path.append(os.path.join( '..','src'))\n",
    "from osm_clipper import remove_tiny_shapes,poly_files\n",
    "import os,sys\n",
    "from tqdm import tqdm\n",
    "import geopandas as gpd\n",
    "import pandas as pd\n",
    "import numpy as np\n",
    "from pgpkg import Geopackage\n",
    "import pygeos\n",
    "sys.path.append(os.path.join( '..','src'))\n",
    "from osm_clipper import remove_tiny_shapes,poly_files,planet_osm\n",
    "from shapely.wkb import loads"
   ]
  },
  {
   "cell_type": "code",
   "execution_count": 2,
   "metadata": {},
   "outputs": [],
   "source": [
    "data_path = os.path.join('..','data')\n",
    "glob_ctry_path = os.path.join(data_path,'cleaned_shapes','global_countries.gpkg')"
   ]
  },
  {
   "cell_type": "code",
   "execution_count": 3,
   "metadata": {},
   "outputs": [
    {
     "name": "stderr",
     "output_type": "stream",
     "text": [
      "C:\\Users\\eks510\\.conda\\envs\\py38\\lib\\site-packages\\pyproj\\crs\\crs.py:53: FutureWarning: '+init=<authority>:<code>' syntax is deprecated. '<authority>:<code>' is the preferred initialization method. When making the change, be mindful of axis order changes: https://pyproj4.github.io/pyproj/stable/gotchas.html#axis-order-changes-in-proj-6\n",
      "  return _prepare_from_string(\" \".join(pjargs))\n"
     ]
    }
   ],
   "source": [
    "poly_files(data_path,glob_ctry_path)"
   ]
  },
  {
   "cell_type": "code",
   "execution_count": null,
   "metadata": {},
   "outputs": [],
   "source": [
    "# load country file\n",
    "country_gadm_path = os.path.join(data_path,'GADM36','gadm36_levels.gpkg')\n",
    "gadm_level0 = pd.DataFrame(gpd.read_file(country_gadm_path,layer='level0'))\n",
    "\n",
    "#convert to pygeos\n",
    "gadm_level0['geometry'] = pygeos.from_shapely(gadm_level0.geometry)\n",
    "\n",
    "# remove antarctica, no roads there anyways\n",
    "gadm_level0 = gadm_level0.loc[~gadm_level0['NAME_0'].isin(['Antarctica'])]\n",
    "\n",
    "# remove tiny shapes to reduce size substantially\n",
    "tqdm.pandas(desc='Remove tiny shapes')\n",
    "gadm_level0['geometry'] = gadm_level0.progress_apply(remove_tiny_shapes,axis=1)\n",
    "\n",
    "#simplify geometry\n",
    "tqdm.pandas(desc='Simplify geometry')\n",
    "gadm_level0.geometry = gadm_level0.geometry.progress_apply(lambda x: pygeos.simplify(\n",
    "    pygeos.buffer(\n",
    "        pygeos.simplify(\n",
    "            x,tolerance = 0.005, preserve_topology=True),0.01),tolerance = 0.005, preserve_topology=True))  \n",
    "\n",
    "#save to new country file\n",
    "glob_ctry_path = os.path.join(data_path,'cleaned_shapes','global_countries.gpkg')"
   ]
  },
  {
   "cell_type": "code",
   "execution_count": null,
   "metadata": {},
   "outputs": [],
   "source": [
    "pygeos.geometry.get_type_id(gadm_level0.geometry).unique()"
   ]
  },
  {
   "cell_type": "code",
   "execution_count": null,
   "metadata": {},
   "outputs": [],
   "source": [
    "with Geopackage(glob_ctry_path, 'w') as out:\n",
    "    out.add_layer(gadm_level0, name='level0', crs='EPSG:4326')"
   ]
  },
  {
   "cell_type": "code",
   "execution_count": null,
   "metadata": {},
   "outputs": [],
   "source": [
    "gadm_level0.geometry = gadm_level0.geometry.progress_apply(lambda x: loads(pygeos.to_wkb(x)))"
   ]
  },
  {
   "cell_type": "code",
   "execution_count": null,
   "metadata": {},
   "outputs": [],
   "source": [
    "gpd.GeoDataFrame(gadm_level0).to_file(glob_ctry_path,layer='level0', driver=\"GPKG\")"
   ]
  },
  {
   "cell_type": "code",
   "execution_count": null,
   "metadata": {},
   "outputs": [],
   "source": [
    "%%time\n",
    "gadm_level0['geometry'] = pygeos.from_shapely(gadm_level0.geometry)"
   ]
  },
  {
   "cell_type": "code",
   "execution_count": null,
   "metadata": {},
   "outputs": [],
   "source": [
    "gadm_level0 = gadm_level0.loc[~gadm_level0['NAME_0'].isin(['Antarctica'])]"
   ]
  },
  {
   "cell_type": "code",
   "execution_count": null,
   "metadata": {},
   "outputs": [],
   "source": [
    "def remove_tiny_shapes(x,regionalized=False):\n",
    "    \"\"\"This function will remove the small shapes of multipolygons. Will reduce the size of the file.\n",
    "    \n",
    "    Arguments:\n",
    "        *x* : a geometry feature (Polygon) to simplify. Countries which are very large will see larger (unhabitated) islands being removed.\n",
    "    \n",
    "    Optional Arguments:\n",
    "        *regionalized*  : Default is **False**. Set to **True** will use lower threshold settings (default: **False**).\n",
    "        \n",
    "    Returns:\n",
    "        *MultiPolygon* : a shapely geometry MultiPolygon without tiny shapes.\n",
    "        \n",
    "    \"\"\"\n",
    "    \n",
    "    # if its a single polygon, just return the polygon geometry\n",
    "    if pygeos.geometry.get_type_id(x.geometry) == 3: # 'Polygon':\n",
    "        return x.geometry\n",
    "    \n",
    "    # if its a multipolygon, we start trying to simplify and remove shapes if its too big.\n",
    "    elif pygeos.geometry.get_type_id(x.geometry) == 6: # 'MultiPolygon':\n",
    "        \n",
    "        if regionalized == False:\n",
    "            area1 = 0.1\n",
    "            area2 = 250\n",
    "                \n",
    "        elif regionalized == True:\n",
    "            area1 = 0.01\n",
    "            area2 = 50           \n",
    "\n",
    "        # dont remove shapes if total area is already very small\n",
    "        if pygeos.area(x.geometry) < area1:\n",
    "            return x.geometry\n",
    "        # remove bigger shapes if country is really big\n",
    "\n",
    "        if x['GID_0'] in ['CHL','IDN']:\n",
    "            threshold = 0.01\n",
    "        elif x['GID_0'] in ['RUS','GRL','CAN','USA']:\n",
    "            if regionalized == True:\n",
    "                threshold = 0.01\n",
    "            else:\n",
    "                threshold = 0.01\n",
    "\n",
    "        elif pygeos.area(x.geometry) > area2:\n",
    "            threshold = 0.1\n",
    "        else:\n",
    "            threshold = 0.001\n",
    "\n",
    "        # save remaining polygons as new multipolygon for the specific country\n",
    "        new_geom = []\n",
    "        for index_ in range(pygeos.geometry.get_num_geometries(x.geometry)):\n",
    "            if pygeos.area(pygeos.geometry.get_geometry(x.geometry,index_)) > threshold:\n",
    "                new_geom.append(pygeos.geometry.get_geometry(x.geometry,index_))\n",
    "        \n",
    "        return pygeos.creation.multipolygons(np.array(new_geom))"
   ]
  },
  {
   "cell_type": "code",
   "execution_count": null,
   "metadata": {},
   "outputs": [],
   "source": []
  },
  {
   "cell_type": "code",
   "execution_count": null,
   "metadata": {},
   "outputs": [],
   "source": []
  }
 ],
 "metadata": {
  "kernelspec": {
   "display_name": "Python 3",
   "language": "python",
   "name": "python3"
  },
  "language_info": {
   "codemirror_mode": {
    "name": "ipython",
    "version": 3
   },
   "file_extension": ".py",
   "mimetype": "text/x-python",
   "name": "python",
   "nbconvert_exporter": "python",
   "pygments_lexer": "ipython3",
   "version": "3.8.3"
  }
 },
 "nbformat": 4,
 "nbformat_minor": 4
}
